{
 "cells": [
  {
   "cell_type": "code",
   "execution_count": 7,
   "metadata": {},
   "outputs": [],
   "source": [
    "import pandas as pd"
   ]
  },
  {
   "cell_type": "markdown",
   "metadata": {},
   "source": [
    "# Setting up the enviroment"
   ]
  },
  {
   "cell_type": "code",
   "execution_count": null,
   "metadata": {},
   "outputs": [],
   "source": [
    "!conda env create -f ../environment.yml"
   ]
  },
  {
   "cell_type": "markdown",
   "metadata": {},
   "source": [
    "# The format of the dataset"
   ]
  },
  {
   "cell_type": "markdown",
   "metadata": {},
   "source": [
    "## Phase 1"
   ]
  },
  {
   "cell_type": "markdown",
   "metadata": {},
   "source": [
    "### Training"
   ]
  },
  {
   "cell_type": "markdown",
   "metadata": {},
   "source": [
    "The training data for the first phase consists of a large number of small audio files. The path to the audio files that contain the click, along with the click time should be in \"dataset/p1_train_clicks.csv\" in the following format:"
   ]
  },
  {
   "cell_type": "code",
   "execution_count": 8,
   "metadata": {},
   "outputs": [
    {
     "data": {
      "text/html": [
       "<div>\n",
       "<style scoped>\n",
       "    .dataframe tbody tr th:only-of-type {\n",
       "        vertical-align: middle;\n",
       "    }\n",
       "\n",
       "    .dataframe tbody tr th {\n",
       "        vertical-align: top;\n",
       "    }\n",
       "\n",
       "    .dataframe thead th {\n",
       "        text-align: right;\n",
       "    }\n",
       "</style>\n",
       "<table border=\"1\" class=\"dataframe\">\n",
       "  <thead>\n",
       "    <tr style=\"text-align: right;\">\n",
       "      <th></th>\n",
       "      <th>audio_path</th>\n",
       "      <th>click_time</th>\n",
       "    </tr>\n",
       "  </thead>\n",
       "  <tbody>\n",
       "    <tr>\n",
       "      <th>0</th>\n",
       "      <td>/data/vision/torralba/scratch/fjacob/simplifie...</td>\n",
       "      <td>5020</td>\n",
       "    </tr>\n",
       "    <tr>\n",
       "      <th>1</th>\n",
       "      <td>/data/vision/torralba/scratch/fjacob/simplifie...</td>\n",
       "      <td>5020</td>\n",
       "    </tr>\n",
       "    <tr>\n",
       "      <th>2</th>\n",
       "      <td>/data/vision/torralba/scratch/fjacob/simplifie...</td>\n",
       "      <td>5020</td>\n",
       "    </tr>\n",
       "    <tr>\n",
       "      <th>3</th>\n",
       "      <td>/data/vision/torralba/scratch/fjacob/simplifie...</td>\n",
       "      <td>5020</td>\n",
       "    </tr>\n",
       "    <tr>\n",
       "      <th>4</th>\n",
       "      <td>/data/vision/torralba/scratch/fjacob/simplifie...</td>\n",
       "      <td>5020</td>\n",
       "    </tr>\n",
       "    <tr>\n",
       "      <th>...</th>\n",
       "      <td>...</td>\n",
       "      <td>...</td>\n",
       "    </tr>\n",
       "    <tr>\n",
       "      <th>14759</th>\n",
       "      <td>/data/vision/torralba/scratch/fjacob/simplifie...</td>\n",
       "      <td>5020</td>\n",
       "    </tr>\n",
       "    <tr>\n",
       "      <th>14760</th>\n",
       "      <td>/data/vision/torralba/scratch/fjacob/simplifie...</td>\n",
       "      <td>5020</td>\n",
       "    </tr>\n",
       "    <tr>\n",
       "      <th>14761</th>\n",
       "      <td>/data/vision/torralba/scratch/fjacob/simplifie...</td>\n",
       "      <td>5020</td>\n",
       "    </tr>\n",
       "    <tr>\n",
       "      <th>14762</th>\n",
       "      <td>/data/vision/torralba/scratch/fjacob/simplifie...</td>\n",
       "      <td>5020</td>\n",
       "    </tr>\n",
       "    <tr>\n",
       "      <th>14763</th>\n",
       "      <td>/data/vision/torralba/scratch/fjacob/simplifie...</td>\n",
       "      <td>5020</td>\n",
       "    </tr>\n",
       "  </tbody>\n",
       "</table>\n",
       "<p>14764 rows × 2 columns</p>\n",
       "</div>"
      ],
      "text/plain": [
       "                                              audio_path  click_time\n",
       "0      /data/vision/torralba/scratch/fjacob/simplifie...        5020\n",
       "1      /data/vision/torralba/scratch/fjacob/simplifie...        5020\n",
       "2      /data/vision/torralba/scratch/fjacob/simplifie...        5020\n",
       "3      /data/vision/torralba/scratch/fjacob/simplifie...        5020\n",
       "4      /data/vision/torralba/scratch/fjacob/simplifie...        5020\n",
       "...                                                  ...         ...\n",
       "14759  /data/vision/torralba/scratch/fjacob/simplifie...        5020\n",
       "14760  /data/vision/torralba/scratch/fjacob/simplifie...        5020\n",
       "14761  /data/vision/torralba/scratch/fjacob/simplifie...        5020\n",
       "14762  /data/vision/torralba/scratch/fjacob/simplifie...        5020\n",
       "14763  /data/vision/torralba/scratch/fjacob/simplifie...        5020\n",
       "\n",
       "[14764 rows x 2 columns]"
      ]
     },
     "execution_count": 8,
     "metadata": {},
     "output_type": "execute_result"
    }
   ],
   "source": [
    "pd.read_csv(\"dataset/p1_train_clicks.csv\")"
   ]
  },
  {
   "cell_type": "markdown",
   "metadata": {},
   "source": [
    "The path to the audio files that don't contain clicks should be in \"dataset/p1_train_noise.csv\" with the following format."
   ]
  },
  {
   "cell_type": "code",
   "execution_count": 9,
   "metadata": {},
   "outputs": [
    {
     "data": {
      "text/html": [
       "<div>\n",
       "<style scoped>\n",
       "    .dataframe tbody tr th:only-of-type {\n",
       "        vertical-align: middle;\n",
       "    }\n",
       "\n",
       "    .dataframe tbody tr th {\n",
       "        vertical-align: top;\n",
       "    }\n",
       "\n",
       "    .dataframe thead th {\n",
       "        text-align: right;\n",
       "    }\n",
       "</style>\n",
       "<table border=\"1\" class=\"dataframe\">\n",
       "  <thead>\n",
       "    <tr style=\"text-align: right;\">\n",
       "      <th></th>\n",
       "      <th>audio_path</th>\n",
       "    </tr>\n",
       "  </thead>\n",
       "  <tbody>\n",
       "    <tr>\n",
       "      <th>0</th>\n",
       "      <td>/data/vision/torralba/scratch/fjacob/simplifie...</td>\n",
       "    </tr>\n",
       "    <tr>\n",
       "      <th>1</th>\n",
       "      <td>/data/vision/torralba/scratch/fjacob/simplifie...</td>\n",
       "    </tr>\n",
       "    <tr>\n",
       "      <th>2</th>\n",
       "      <td>/data/vision/torralba/scratch/fjacob/simplifie...</td>\n",
       "    </tr>\n",
       "    <tr>\n",
       "      <th>3</th>\n",
       "      <td>/data/vision/torralba/scratch/fjacob/simplifie...</td>\n",
       "    </tr>\n",
       "    <tr>\n",
       "      <th>4</th>\n",
       "      <td>/data/vision/torralba/scratch/fjacob/simplifie...</td>\n",
       "    </tr>\n",
       "    <tr>\n",
       "      <th>...</th>\n",
       "      <td>...</td>\n",
       "    </tr>\n",
       "    <tr>\n",
       "      <th>1975992</th>\n",
       "      <td>/data/vision/torralba/scratch/fjacob/simplifie...</td>\n",
       "    </tr>\n",
       "    <tr>\n",
       "      <th>1975993</th>\n",
       "      <td>/data/vision/torralba/scratch/fjacob/simplifie...</td>\n",
       "    </tr>\n",
       "    <tr>\n",
       "      <th>1975994</th>\n",
       "      <td>/data/vision/torralba/scratch/fjacob/simplifie...</td>\n",
       "    </tr>\n",
       "    <tr>\n",
       "      <th>1975995</th>\n",
       "      <td>/data/vision/torralba/scratch/fjacob/simplifie...</td>\n",
       "    </tr>\n",
       "    <tr>\n",
       "      <th>1975996</th>\n",
       "      <td>/data/vision/torralba/scratch/fjacob/simplifie...</td>\n",
       "    </tr>\n",
       "  </tbody>\n",
       "</table>\n",
       "<p>1975997 rows × 1 columns</p>\n",
       "</div>"
      ],
      "text/plain": [
       "                                                audio_path\n",
       "0        /data/vision/torralba/scratch/fjacob/simplifie...\n",
       "1        /data/vision/torralba/scratch/fjacob/simplifie...\n",
       "2        /data/vision/torralba/scratch/fjacob/simplifie...\n",
       "3        /data/vision/torralba/scratch/fjacob/simplifie...\n",
       "4        /data/vision/torralba/scratch/fjacob/simplifie...\n",
       "...                                                    ...\n",
       "1975992  /data/vision/torralba/scratch/fjacob/simplifie...\n",
       "1975993  /data/vision/torralba/scratch/fjacob/simplifie...\n",
       "1975994  /data/vision/torralba/scratch/fjacob/simplifie...\n",
       "1975995  /data/vision/torralba/scratch/fjacob/simplifie...\n",
       "1975996  /data/vision/torralba/scratch/fjacob/simplifie...\n",
       "\n",
       "[1975997 rows x 1 columns]"
      ]
     },
     "execution_count": 9,
     "metadata": {},
     "output_type": "execute_result"
    }
   ],
   "source": [
    "pd.read_csv(\"dataset/p1_train_noise.csv\")"
   ]
  },
  {
   "cell_type": "markdown",
   "metadata": {},
   "source": [
    "If you only have long audio files, then you can set up the phase 2 dataset as explained below and then run the below cell / file to extract short audio files from it."
   ]
  },
  {
   "cell_type": "code",
   "execution_count": null,
   "metadata": {},
   "outputs": [],
   "source": [
    "!python extract_short_audio.py"
   ]
  },
  {
   "cell_type": "markdown",
   "metadata": {},
   "source": [
    "### Validation"
   ]
  },
  {
   "cell_type": "markdown",
   "metadata": {},
   "source": [
    "The validation dataset for phase 1 is a single audio file stored in \"dataset/p1_validation_audio.wav\", and it's annotations are stored in \"dataset/p1_validation_annotations.csv\". The annotations csv file should contain columns with the click start time (TsTo) and the inter-click interval (ICIX for the Xth interclick interval), as in the following example:"
   ]
  },
  {
   "cell_type": "code",
   "execution_count": 10,
   "metadata": {},
   "outputs": [
    {
     "data": {
      "text/html": [
       "<div>\n",
       "<style scoped>\n",
       "    .dataframe tbody tr th:only-of-type {\n",
       "        vertical-align: middle;\n",
       "    }\n",
       "\n",
       "    .dataframe tbody tr th {\n",
       "        vertical-align: top;\n",
       "    }\n",
       "\n",
       "    .dataframe thead th {\n",
       "        text-align: right;\n",
       "    }\n",
       "</style>\n",
       "<table border=\"1\" class=\"dataframe\">\n",
       "  <thead>\n",
       "    <tr style=\"text-align: right;\">\n",
       "      <th></th>\n",
       "      <th>REC</th>\n",
       "      <th>nClicks</th>\n",
       "      <th>Duration</th>\n",
       "      <th>ICI1</th>\n",
       "      <th>ICI2</th>\n",
       "      <th>ICI3</th>\n",
       "      <th>ICI4</th>\n",
       "      <th>ICI5</th>\n",
       "      <th>ICI6</th>\n",
       "      <th>ICI7</th>\n",
       "      <th>...</th>\n",
       "      <th>ICI33</th>\n",
       "      <th>ICI34</th>\n",
       "      <th>ICI35</th>\n",
       "      <th>ICI36</th>\n",
       "      <th>ICI37</th>\n",
       "      <th>ICI38</th>\n",
       "      <th>ICI39</th>\n",
       "      <th>ICI40</th>\n",
       "      <th>Whale</th>\n",
       "      <th>TsTo</th>\n",
       "    </tr>\n",
       "  </thead>\n",
       "  <tbody>\n",
       "    <tr>\n",
       "      <th>0</th>\n",
       "      <td>CETI23-280</td>\n",
       "      <td>5</td>\n",
       "      <td>0.98399</td>\n",
       "      <td>0.31889</td>\n",
       "      <td>0.32649</td>\n",
       "      <td>0.1892</td>\n",
       "      <td>0.14941</td>\n",
       "      <td>0.0</td>\n",
       "      <td>0.0</td>\n",
       "      <td>0.0</td>\n",
       "      <td>...</td>\n",
       "      <td>0.0</td>\n",
       "      <td>0</td>\n",
       "      <td>0</td>\n",
       "      <td>0</td>\n",
       "      <td>0</td>\n",
       "      <td>0</td>\n",
       "      <td>0</td>\n",
       "      <td>0.0</td>\n",
       "      <td>1</td>\n",
       "      <td>3.2977</td>\n",
       "    </tr>\n",
       "  </tbody>\n",
       "</table>\n",
       "<p>1 rows × 45 columns</p>\n",
       "</div>"
      ],
      "text/plain": [
       "          REC  nClicks  Duration     ICI1     ICI2    ICI3     ICI4  ICI5  \\\n",
       "0  CETI23-280        5   0.98399  0.31889  0.32649  0.1892  0.14941   0.0   \n",
       "\n",
       "   ICI6  ICI7  ...  ICI33  ICI34  ICI35  ICI36  ICI37  ICI38  ICI39  ICI40  \\\n",
       "0   0.0   0.0  ...    0.0      0      0      0      0      0      0    0.0   \n",
       "\n",
       "   Whale    TsTo  \n",
       "0      1  3.2977  \n",
       "\n",
       "[1 rows x 45 columns]"
      ]
     },
     "execution_count": 10,
     "metadata": {},
     "output_type": "execute_result"
    }
   ],
   "source": [
    "pd.read_csv(\"dataset/p1_validation_annotations.csv\").head(1)"
   ]
  },
  {
   "cell_type": "markdown",
   "metadata": {},
   "source": [
    "The audio file should be at least multiple minutes long and contain multiple clicks."
   ]
  },
  {
   "cell_type": "markdown",
   "metadata": {},
   "source": [
    "## Phase 2"
   ]
  },
  {
   "cell_type": "markdown",
   "metadata": {},
   "source": [
    "For each partition of the dataset (train / val / test) you need a file named \"dataset/p2_[partition name]_dataset.csv\" with the following format"
   ]
  },
  {
   "cell_type": "code",
   "execution_count": 11,
   "metadata": {},
   "outputs": [
    {
     "data": {
      "text/html": [
       "<div>\n",
       "<style scoped>\n",
       "    .dataframe tbody tr th:only-of-type {\n",
       "        vertical-align: middle;\n",
       "    }\n",
       "\n",
       "    .dataframe tbody tr th {\n",
       "        vertical-align: top;\n",
       "    }\n",
       "\n",
       "    .dataframe thead th {\n",
       "        text-align: right;\n",
       "    }\n",
       "</style>\n",
       "<table border=\"1\" class=\"dataframe\">\n",
       "  <thead>\n",
       "    <tr style=\"text-align: right;\">\n",
       "      <th></th>\n",
       "      <th>file_name</th>\n",
       "      <th>part</th>\n",
       "      <th>first_context_start_frame</th>\n",
       "      <th>last_context_start_frame</th>\n",
       "      <th>audio_path</th>\n",
       "    </tr>\n",
       "  </thead>\n",
       "  <tbody>\n",
       "    <tr>\n",
       "      <th>0</th>\n",
       "      <td>sw061b003</td>\n",
       "      <td>0</td>\n",
       "      <td>0</td>\n",
       "      <td>89630080</td>\n",
       "      <td>/raid/lingo/martinrm/original_data/dataset/201...</td>\n",
       "    </tr>\n",
       "    <tr>\n",
       "      <th>1</th>\n",
       "      <td>sw100a002</td>\n",
       "      <td>0</td>\n",
       "      <td>30050520</td>\n",
       "      <td>48107200</td>\n",
       "      <td>/raid/lingo/martinrm/original_data/dataset/201...</td>\n",
       "    </tr>\n",
       "    <tr>\n",
       "      <th>2</th>\n",
       "      <td>sw091b001</td>\n",
       "      <td>0</td>\n",
       "      <td>0</td>\n",
       "      <td>132048120</td>\n",
       "      <td>/raid/lingo/martinrm/original_data/dataset/201...</td>\n",
       "    </tr>\n",
       "    <tr>\n",
       "      <th>3</th>\n",
       "      <td>sw106a004</td>\n",
       "      <td>1</td>\n",
       "      <td>131236080</td>\n",
       "      <td>178467680</td>\n",
       "      <td>/raid/lingo/martinrm/original_data/dataset/201...</td>\n",
       "    </tr>\n",
       "    <tr>\n",
       "      <th>4</th>\n",
       "      <td>sw097a001</td>\n",
       "      <td>1</td>\n",
       "      <td>71600280</td>\n",
       "      <td>90439760</td>\n",
       "      <td>/raid/lingo/martinrm/original_data/dataset/201...</td>\n",
       "    </tr>\n",
       "    <tr>\n",
       "      <th>...</th>\n",
       "      <td>...</td>\n",
       "      <td>...</td>\n",
       "      <td>...</td>\n",
       "      <td>...</td>\n",
       "      <td>...</td>\n",
       "    </tr>\n",
       "    <tr>\n",
       "      <th>78</th>\n",
       "      <td>sw091b002</td>\n",
       "      <td>0</td>\n",
       "      <td>28198160</td>\n",
       "      <td>48821480</td>\n",
       "      <td>/raid/lingo/martinrm/original_data/dataset/201...</td>\n",
       "    </tr>\n",
       "    <tr>\n",
       "      <th>79</th>\n",
       "      <td>sw114b001</td>\n",
       "      <td>2</td>\n",
       "      <td>162627080</td>\n",
       "      <td>179025640</td>\n",
       "      <td>/raid/lingo/martinrm/original_data/dataset/201...</td>\n",
       "    </tr>\n",
       "    <tr>\n",
       "      <th>80</th>\n",
       "      <td>sw114b003</td>\n",
       "      <td>1</td>\n",
       "      <td>119066040</td>\n",
       "      <td>134428240</td>\n",
       "      <td>/raid/lingo/martinrm/original_data/dataset/201...</td>\n",
       "    </tr>\n",
       "    <tr>\n",
       "      <th>81</th>\n",
       "      <td>sw085a002</td>\n",
       "      <td>1</td>\n",
       "      <td>94663640</td>\n",
       "      <td>176517440</td>\n",
       "      <td>/raid/lingo/martinrm/original_data/dataset/201...</td>\n",
       "    </tr>\n",
       "    <tr>\n",
       "      <th>82</th>\n",
       "      <td>sw090b001</td>\n",
       "      <td>1</td>\n",
       "      <td>63230080</td>\n",
       "      <td>98452720</td>\n",
       "      <td>/raid/lingo/martinrm/original_data/dataset/201...</td>\n",
       "    </tr>\n",
       "  </tbody>\n",
       "</table>\n",
       "<p>83 rows × 5 columns</p>\n",
       "</div>"
      ],
      "text/plain": [
       "    file_name  part  first_context_start_frame  last_context_start_frame  \\\n",
       "0   sw061b003     0                          0                  89630080   \n",
       "1   sw100a002     0                   30050520                  48107200   \n",
       "2   sw091b001     0                          0                 132048120   \n",
       "3   sw106a004     1                  131236080                 178467680   \n",
       "4   sw097a001     1                   71600280                  90439760   \n",
       "..        ...   ...                        ...                       ...   \n",
       "78  sw091b002     0                   28198160                  48821480   \n",
       "79  sw114b001     2                  162627080                 179025640   \n",
       "80  sw114b003     1                  119066040                 134428240   \n",
       "81  sw085a002     1                   94663640                 176517440   \n",
       "82  sw090b001     1                   63230080                  98452720   \n",
       "\n",
       "                                           audio_path  \n",
       "0   /raid/lingo/martinrm/original_data/dataset/201...  \n",
       "1   /raid/lingo/martinrm/original_data/dataset/201...  \n",
       "2   /raid/lingo/martinrm/original_data/dataset/201...  \n",
       "3   /raid/lingo/martinrm/original_data/dataset/201...  \n",
       "4   /raid/lingo/martinrm/original_data/dataset/201...  \n",
       "..                                                ...  \n",
       "78  /raid/lingo/martinrm/original_data/dataset/201...  \n",
       "79  /raid/lingo/martinrm/original_data/dataset/201...  \n",
       "80  /raid/lingo/martinrm/original_data/dataset/201...  \n",
       "81  /raid/lingo/martinrm/original_data/dataset/201...  \n",
       "82  /raid/lingo/martinrm/original_data/dataset/201...  \n",
       "\n",
       "[83 rows x 5 columns]"
      ]
     },
     "execution_count": 11,
     "metadata": {},
     "output_type": "execute_result"
    }
   ],
   "source": [
    "pd.read_csv(\"dataset/p2_train_dataset.csv\")"
   ]
  },
  {
   "cell_type": "markdown",
   "metadata": {},
   "source": [
    "Each row represents a subset of an audio file. Part is a unique identifying number for each subset of an audio file. first_context_start_frame and last_context_start_frame indicate the beginning and ending time of the subset in frames, assuming a sample rate of 22050 frames per second."
   ]
  },
  {
   "cell_type": "markdown",
   "metadata": {},
   "source": [
    "The annotations for all the audio files need to be in the file \"dataset/p2_all_annotations.csv\". In the csv file each row represents a coda and must include at least the following columns:\n",
    "\n",
    "1) \"REC\" identifies the audio file. The first 6 letters should be unique.\n",
    "2) \"TsTo\" represents the start time of the Coda in seconds\n",
    "3) \"Whale\" is an id that identifies the speaker\n",
    "4) \"nClicks\" is the number of clicks\n",
    "4) \"ICI[X]\" is the Xth inter-click interval"
   ]
  },
  {
   "cell_type": "code",
   "execution_count": 12,
   "metadata": {},
   "outputs": [
    {
     "data": {
      "text/plain": [
       "Index(['REC', 'nClicks', 'Duration', 'ICI1', 'ICI2', 'ICI3', 'ICI4', 'ICI5',\n",
       "       'ICI6', 'ICI7', 'ICI8', 'ICI9', 'ICI10', 'ICI11', 'ICI12', 'ICI13',\n",
       "       'ICI14', 'ICI15', 'ICI16', 'ICI17', 'ICI18', 'ICI19', 'ICI20', 'ICI21',\n",
       "       'ICI22', 'ICI23', 'ICI24', 'ICI25', 'ICI26', 'ICI27', 'ICI28', 'ICI29',\n",
       "       'ICI30', 'ICI31', 'ICI32', 'ICI33', 'ICI34', 'ICI35', 'ICI36', 'ICI37',\n",
       "       'ICI38', 'ICI39', 'ICI40', 'Whale', 'TsTo'],\n",
       "      dtype='object')"
      ]
     },
     "execution_count": 12,
     "metadata": {},
     "output_type": "execute_result"
    }
   ],
   "source": [
    "pd.read_csv(\"dataset/p2_all_annotations.csv\").columns"
   ]
  },
  {
   "cell_type": "code",
   "execution_count": 13,
   "metadata": {},
   "outputs": [
    {
     "data": {
      "text/html": [
       "<div>\n",
       "<style scoped>\n",
       "    .dataframe tbody tr th:only-of-type {\n",
       "        vertical-align: middle;\n",
       "    }\n",
       "\n",
       "    .dataframe tbody tr th {\n",
       "        vertical-align: top;\n",
       "    }\n",
       "\n",
       "    .dataframe thead th {\n",
       "        text-align: right;\n",
       "    }\n",
       "</style>\n",
       "<table border=\"1\" class=\"dataframe\">\n",
       "  <thead>\n",
       "    <tr style=\"text-align: right;\">\n",
       "      <th></th>\n",
       "      <th>REC</th>\n",
       "      <th>nClicks</th>\n",
       "      <th>Duration</th>\n",
       "      <th>ICI1</th>\n",
       "      <th>ICI2</th>\n",
       "      <th>ICI3</th>\n",
       "      <th>ICI4</th>\n",
       "      <th>ICI5</th>\n",
       "      <th>ICI6</th>\n",
       "      <th>ICI7</th>\n",
       "      <th>...</th>\n",
       "      <th>ICI33</th>\n",
       "      <th>ICI34</th>\n",
       "      <th>ICI35</th>\n",
       "      <th>ICI36</th>\n",
       "      <th>ICI37</th>\n",
       "      <th>ICI38</th>\n",
       "      <th>ICI39</th>\n",
       "      <th>ICI40</th>\n",
       "      <th>Whale</th>\n",
       "      <th>TsTo</th>\n",
       "    </tr>\n",
       "  </thead>\n",
       "  <tbody>\n",
       "    <tr>\n",
       "      <th>0</th>\n",
       "      <td>sw106a002</td>\n",
       "      <td>9</td>\n",
       "      <td>0.386608</td>\n",
       "      <td>0.038208</td>\n",
       "      <td>0.042742</td>\n",
       "      <td>0.044058</td>\n",
       "      <td>0.041092</td>\n",
       "      <td>0.048275</td>\n",
       "      <td>0.049517</td>\n",
       "      <td>0.057583</td>\n",
       "      <td>...</td>\n",
       "      <td>0.0</td>\n",
       "      <td>0.0</td>\n",
       "      <td>0.0</td>\n",
       "      <td>0.0</td>\n",
       "      <td>0.0</td>\n",
       "      <td>0.0</td>\n",
       "      <td>0</td>\n",
       "      <td>0</td>\n",
       "      <td>1.0</td>\n",
       "      <td>1725.051967</td>\n",
       "    </tr>\n",
       "  </tbody>\n",
       "</table>\n",
       "<p>1 rows × 45 columns</p>\n",
       "</div>"
      ],
      "text/plain": [
       "         REC  nClicks  Duration      ICI1      ICI2      ICI3      ICI4  \\\n",
       "0  sw106a002        9  0.386608  0.038208  0.042742  0.044058  0.041092   \n",
       "\n",
       "       ICI5      ICI6      ICI7  ...  ICI33  ICI34  ICI35  ICI36  ICI37  \\\n",
       "0  0.048275  0.049517  0.057583  ...    0.0    0.0    0.0    0.0    0.0   \n",
       "\n",
       "   ICI38  ICI39  ICI40  Whale         TsTo  \n",
       "0    0.0      0      0    1.0  1725.051967  \n",
       "\n",
       "[1 rows x 45 columns]"
      ]
     },
     "execution_count": 13,
     "metadata": {},
     "output_type": "execute_result"
    }
   ],
   "source": [
    "pd.read_csv(\"dataset/p2_all_annotations.csv\").head(1)"
   ]
  },
  {
   "cell_type": "markdown",
   "metadata": {},
   "source": [
    "# Training new models"
   ]
  },
  {
   "cell_type": "markdown",
   "metadata": {},
   "source": [
    "Once you have changed out the dataset files for your own, simply run the following cells in order (alternativly run the files in the command line).  The models will be saved in \"phase_1_checkpoints\" and \"transformer_training_output.\""
   ]
  },
  {
   "cell_type": "markdown",
   "metadata": {},
   "source": [
    "## Train phase 1 models"
   ]
  },
  {
   "cell_type": "code",
   "execution_count": null,
   "metadata": {},
   "outputs": [],
   "source": [
    "!python click_candidate_detector_training.py"
   ]
  },
  {
   "cell_type": "markdown",
   "metadata": {},
   "source": [
    "## Create phase 2 dataset"
   ]
  },
  {
   "cell_type": "code",
   "execution_count": null,
   "metadata": {},
   "outputs": [],
   "source": [
    "!python make_transformer_dataset.py"
   ]
  },
  {
   "cell_type": "markdown",
   "metadata": {},
   "source": [
    "## Train phase 2 models"
   ]
  },
  {
   "cell_type": "code",
   "execution_count": null,
   "metadata": {},
   "outputs": [],
   "source": [
    "!python candidate_revision_training.py"
   ]
  }
 ],
 "metadata": {
  "kernelspec": {
   "display_name": "base",
   "language": "python",
   "name": "python3"
  },
  "language_info": {
   "codemirror_mode": {
    "name": "ipython",
    "version": 3
   },
   "file_extension": ".py",
   "mimetype": "text/x-python",
   "name": "python",
   "nbconvert_exporter": "python",
   "pygments_lexer": "ipython3",
   "version": "3.10.9"
  }
 },
 "nbformat": 4,
 "nbformat_minor": 2
}
