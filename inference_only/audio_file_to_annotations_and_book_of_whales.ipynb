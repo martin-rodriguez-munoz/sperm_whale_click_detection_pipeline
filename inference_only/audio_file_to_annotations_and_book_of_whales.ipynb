{
 "cells": [
  {
   "cell_type": "code",
   "execution_count": null,
   "metadata": {},
   "outputs": [],
   "source": [
    "from automatic_annotation_pipeline import annotate\n",
    "import os\n",
    "from book_of_whales import make_book_of_whales"
   ]
  },
  {
   "cell_type": "code",
   "execution_count": null,
   "metadata": {},
   "outputs": [],
   "source": [
    "audio_path = \"/raid/lingo/martinrm/original_data/dataset/2015/sw061b001.wav\"\n",
    "annotation_output_path = \"sw061b001_annotations.csv\"\n",
    "book_of_whales_output_path = \"sw061b001_book_of_whales.pdf\""
   ]
  },
  {
   "cell_type": "markdown",
   "metadata": {},
   "source": [
    "# Set up enviroment"
   ]
  },
  {
   "cell_type": "markdown",
   "metadata": {},
   "source": [
    "Installing the enviroment:"
   ]
  },
  {
   "cell_type": "code",
   "execution_count": null,
   "metadata": {},
   "outputs": [],
   "source": [
    "!conda env create -f ../environment.yml"
   ]
  },
  {
   "cell_type": "markdown",
   "metadata": {},
   "source": [
    "## Settings"
   ]
  },
  {
   "cell_type": "code",
   "execution_count": null,
   "metadata": {},
   "outputs": [],
   "source": [
    "# Phase 2 predictions with a confidence above this threshold will be in the final output. Default value is 0.5.\n",
    "prediction_th = 0.5 \n",
    "\n",
    "# Windows with a phase 1 prediction confidence above this threshold will be passed to phase 2. Default value is 0.7.\n",
    "sending_th = 0.7 \n",
    "\n",
    "# Path to the checkpoint for the SoundNet model used in phase 1. Default value is \"phase_1_checkpoints/phase_1_soundnet.pt\".\n",
    "path_to_phase_1_soundnet_checkpoint=\"phase_1_checkpoints/phase_1_soundnet.pt\"\n",
    "\n",
    "# Path to the checkpoint for the MLP model used in phase 1. Default value is \"phase_1_checkpoints/phase_1_mlp.pt\".\n",
    "path_to_phase_1_mlp_checkpoint=\"phase_1_checkpoints/phase_1_mlp.pt\"\n",
    "\n",
    "# Path to the checkpoint for the SoundNet model used in phase 2. Default value is \"phase_2_checkpoints/phase_2_soundnet.pt\".\n",
    "path_to_phase_2_soundnet_checkpoint=\"phase_2_checkpoints/phase_2_soundnet.pt\"\n",
    "\n",
    "# Path to the checkpoint for the transformer model used in phase 2. Default value is \"phase_2_checkpoints/phase_2_transformer.pt\".\n",
    "path_to_phase_2_transformer_checkpoint=\"phase_2_checkpoints/phase_2_transformer.pt\"\n",
    "\n",
    "# Path to the checkpoint for the linear model used in phase 2. Default value is \"phase_2_checkpoints/phase_2_linear.pt\".\n",
    "path_to_phase_2_linear_checkpoint=\"phase_2_checkpoints/phase_2_linear.pt\"\n",
    "\n",
    "# Path to the checkpoint for the coda model used in phase 2. Default value is \"phase_2_checkpoints/phase_2_coda.pt\".\n",
    "path_to_phase_2_coda_checkpoint=\"phase_2_checkpoints/phase_2_coda.pt\"\n",
    "\n",
    "# Path to the checkpoint for the whale model used in phase 2. Default value is \"phase_2_checkpoints/phase_2_whale.pt\".\n",
    "path_to_phase_2_whale_checkpoint=\"phase_2_checkpoints/phase_2_whale.pt\"\n",
    "\n",
    "# If you want an additional output file with all the candidate windows found by phase 1. Default value is False.\n",
    "store_phase_1_predictions=False\n",
    "\n",
    "# If you want an additional output file with the confidences of phase 1 for every window. Default value is False.\n",
    "store_all_phase_1_confidences=False\n",
    "\n",
    "# If you want an additional output file with the raw output of phase 2. Default value is False.\n",
    "store_phase_2_output=False\n",
    "\n",
    "# If you want to print phase 1 outputs as they are calculated. Default value is False.\n",
    "print_p1_output = False\n",
    "\n",
    "# If you want to print phase 2 outputs as they are calculated. Default value is False.\n",
    "print_p2_output = False"
   ]
  },
  {
   "cell_type": "markdown",
   "metadata": {},
   "source": [
    "# Run annotator"
   ]
  },
  {
   "cell_type": "code",
   "execution_count": null,
   "metadata": {},
   "outputs": [],
   "source": [
    "annotate(input_file=audio_path,\n",
    "            output_file=annotation_output_path,\n",
    "            prediction_th=prediction_th,\n",
    "            sending_th=sending_th,\n",
    "            path_to_phase_1_soundnet_checkpoint=path_to_phase_1_soundnet_checkpoint,\n",
    "            path_to_phase_1_mlp_checkpoint=path_to_phase_1_mlp_checkpoint,\n",
    "            path_to_phase_2_soundnet_checkpoint=path_to_phase_2_soundnet_checkpoint,\n",
    "            path_to_phase_2_transformer_checkpoint=path_to_phase_2_transformer_checkpoint,\n",
    "            path_to_phase_2_linear_checkpoint=path_to_phase_2_linear_checkpoint,\n",
    "            path_to_phase_2_coda_checkpoint=path_to_phase_2_coda_checkpoint,\n",
    "            path_to_phase_2_whale_checkpoint=path_to_phase_2_whale_checkpoint,\n",
    "            store_phase_1_predictions=store_phase_1_predictions,\n",
    "            store_all_phase_1_confidences=store_all_phase_1_confidences,\n",
    "            store_phase_2_output=store_phase_2_output,\n",
    "            print_p1_output=print_p1_output,\n",
    "            print_p2_output=print_p2_output)"
   ]
  },
  {
   "cell_type": "markdown",
   "metadata": {},
   "source": [
    "# Calculate book of whales"
   ]
  },
  {
   "cell_type": "code",
   "execution_count": null,
   "metadata": {},
   "outputs": [],
   "source": [
    "make_book_of_whales(annotation_output_path,book_of_whales_output_path)"
   ]
  }
 ],
 "metadata": {
  "kernelspec": {
   "display_name": "base",
   "language": "python",
   "name": "python3"
  },
  "language_info": {
   "codemirror_mode": {
    "name": "ipython",
    "version": 3
   },
   "file_extension": ".py",
   "mimetype": "text/x-python",
   "name": "python",
   "nbconvert_exporter": "python",
   "pygments_lexer": "ipython3",
   "version": "3.10.9"
  }
 },
 "nbformat": 4,
 "nbformat_minor": 2
}
